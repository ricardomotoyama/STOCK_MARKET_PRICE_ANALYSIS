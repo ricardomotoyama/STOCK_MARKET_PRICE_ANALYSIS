{
 "cells": [
  {
   "cell_type": "markdown",
   "metadata": {
    "colab_type": "text",
    "id": "a2ktuDLRXNx_"
   },
   "source": [
    "## Analisando Preços de Ações"
   ]
  },
  {
   "cell_type": "code",
   "execution_count": null,
   "metadata": {
    "colab": {
     "base_uri": "https://localhost:8080/",
     "height": 54
    },
    "colab_type": "code",
    "executionInfo": {
     "elapsed": 767,
     "status": "ok",
     "timestamp": 1584554478011,
     "user": {
      "displayName": "Rodrigo Santana Ferreira",
      "photoUrl": "https://lh3.googleusercontent.com/a-/AOh14Gh4OVUnkCrXudTIiz5YNwndI2zAhcS1gWXUSvoqJQ=s64",
      "userId": "14710330936720624047"
     },
     "user_tz": 180
    },
    "id": "36jwzyXZcFVg",
    "outputId": "15566b63-b475-4dee-fe0e-b6bea19176d9"
   },
   "outputs": [],
   "source": [
    "# Extração base de dados: \n",
    "\n",
    "import pandas as pd\n",
    "import pandas_datareader as pdr\n",
    "\n",
    "lt = ['GOLL4.SA']           #Cria uma lista para ler cada nome de ação a ser extraída no db \n",
    "\n",
    "db = pd.DataFrame()         #Criando um data base fora do loop para salvar cada observação\n",
    "\n",
    "for i in lt:\n",
    "    df = pdr.DataReader(i, 'yahoo', '2013-1-1', '2020-3-24')\n",
    "    df['Ativo'] = i\n",
    "    print(df.head(), df.tail())                 #imprime cada novo ativo lido\n",
    "    db = pd.concat([db, df], sort=True)         #concatena a lista de ações\n",
    "\n",
    "\n",
    "db.to_csv('000.csv')\n",
    "\n",
    "\n",
    "\n",
    "\n",
    "df = pd.read_csv('000.csv')\n",
    "\n",
    "df = df.set_index('Date')\n",
    "\n",
    "print(df)"
   ]
  },
  {
   "cell_type": "markdown",
   "metadata": {
    "colab_type": "text",
    "id": "LYql2cBNXNyF"
   },
   "source": [
    "**Importe o pandas e ler dados de preços**"
   ]
  },
  {
   "cell_type": "code",
   "execution_count": null,
   "metadata": {
    "colab": {},
    "colab_type": "code",
    "id": "Tzksrra5Yi5S"
   },
   "outputs": [],
   "source": [
    "import plotly\n",
    "import plotly.offline as py"
   ]
  },
  {
   "cell_type": "code",
   "execution_count": null,
   "metadata": {
    "colab": {
     "base_uri": "https://localhost:8080/",
     "height": 17
    },
    "colab_type": "code",
    "executionInfo": {
     "elapsed": 688,
     "status": "ok",
     "timestamp": 1584554526233,
     "user": {
      "displayName": "Rodrigo Santana Ferreira",
      "photoUrl": "https://lh3.googleusercontent.com/a-/AOh14Gh4OVUnkCrXudTIiz5YNwndI2zAhcS1gWXUSvoqJQ=s64",
      "userId": "14710330936720624047"
     },
     "user_tz": 180
    },
    "id": "nvISvw91vhoo",
    "outputId": "807cce39-5542-4fb9-aaef-fba0305f5930"
   },
   "outputs": [],
   "source": [
    "# Habilita o modo offline\n",
    "from plotly.offline import plot, iplot\n",
    "plotly.offline.init_notebook_mode(connected=True)"
   ]
  },
  {
   "cell_type": "code",
   "execution_count": null,
   "metadata": {
    "colab": {},
    "colab_type": "code",
    "id": "bznTBlJeXNyG"
   },
   "outputs": [],
   "source": [
    "df = pd.read_csv(\"000.csv\")"
   ]
  },
  {
   "cell_type": "code",
   "execution_count": null,
   "metadata": {
    "colab": {
     "base_uri": "https://localhost:8080/",
     "height": 203
    },
    "colab_type": "code",
    "executionInfo": {
     "elapsed": 2145,
     "status": "ok",
     "timestamp": 1584554548146,
     "user": {
      "displayName": "Rodrigo Santana Ferreira",
      "photoUrl": "https://lh3.googleusercontent.com/a-/AOh14Gh4OVUnkCrXudTIiz5YNwndI2zAhcS1gWXUSvoqJQ=s64",
      "userId": "14710330936720624047"
     },
     "user_tz": 180
    },
    "id": "mbYKVMuryEOo",
    "outputId": "24a79d6d-5d2b-495a-91a8-997e1125190c"
   },
   "outputs": [],
   "source": [
    "df.head()"
   ]
  },
  {
   "cell_type": "markdown",
   "metadata": {
    "colab_type": "text",
    "id": "hjIEX5C_XNyL"
   },
   "source": [
    "**Visulizando a série de dados**"
   ]
  },
  {
   "cell_type": "code",
   "execution_count": null,
   "metadata": {
    "colab": {
     "base_uri": "https://localhost:8080/",
     "height": 171
    },
    "colab_type": "code",
    "executionInfo": {
     "elapsed": 699,
     "status": "ok",
     "timestamp": 1584554622314,
     "user": {
      "displayName": "Rodrigo Santana Ferreira",
      "photoUrl": "https://lh3.googleusercontent.com/a-/AOh14Gh4OVUnkCrXudTIiz5YNwndI2zAhcS1gWXUSvoqJQ=s64",
      "userId": "14710330936720624047"
     },
     "user_tz": 180
    },
    "id": "55wufMjOa8bo",
    "outputId": "2c014cf6-f557-4618-ac57-387af1ed3f28"
   },
   "outputs": [],
   "source": [
    "import plotly.io as pio\n",
    "pio.renderers"
   ]
  },
  {
   "cell_type": "code",
   "execution_count": null,
   "metadata": {
    "colab": {},
    "colab_type": "code",
    "id": "KW8_S7u9aNm0"
   },
   "outputs": [],
   "source": [
    "pio.renderers.default = 'notebook_connected'"
   ]
  },
  {
   "cell_type": "markdown",
   "metadata": {
    "colab_type": "text",
    "id": "pN1rJevwXNyQ"
   },
   "source": [
    "**Plotando preços de fechamento da ação**"
   ]
  },
  {
   "cell_type": "code",
   "execution_count": null,
   "metadata": {
    "colab": {
     "base_uri": "https://localhost:8080/",
     "height": 542
    },
    "colab_type": "code",
    "executionInfo": {
     "elapsed": 2258,
     "status": "ok",
     "timestamp": 1584554709633,
     "user": {
      "displayName": "Rodrigo Santana Ferreira",
      "photoUrl": "https://lh3.googleusercontent.com/a-/AOh14Gh4OVUnkCrXudTIiz5YNwndI2zAhcS1gWXUSvoqJQ=s64",
      "userId": "14710330936720624047"
     },
     "user_tz": 180
    },
    "id": "kBfe7LpvXNyR",
    "outputId": "a0ae4a0c-afff-4272-c964-5946b4d99233"
   },
   "outputs": [],
   "source": [
    "#import chart_studio.plotly as py\n",
    "import plotly.graph_objs as go\n",
    "data = [go.Scatter(\n",
    "          x=df.Date,\n",
    "          y=df['Close'])]\n",
    "\n",
    "py.iplot(data)"
   ]
  },
  {
   "cell_type": "markdown",
   "metadata": {
    "colab_type": "text",
    "id": "kx7pksCqXNyU"
   },
   "source": [
    "**Customizando Faixas de Eixos (Range)**"
   ]
  },
  {
   "cell_type": "code",
   "execution_count": null,
   "metadata": {
    "colab": {
     "base_uri": "https://localhost:8080/",
     "height": 542
    },
    "colab_type": "code",
    "executionInfo": {
     "elapsed": 1079,
     "status": "ok",
     "timestamp": 1584554927866,
     "user": {
      "displayName": "Rodrigo Santana Ferreira",
      "photoUrl": "https://lh3.googleusercontent.com/a-/AOh14Gh4OVUnkCrXudTIiz5YNwndI2zAhcS1gWXUSvoqJQ=s64",
      "userId": "14710330936720624047"
     },
     "user_tz": 180
    },
    "id": "vhHX2dygXNyW",
    "outputId": "217d0f4f-a01b-40c7-9a5f-f83887726d69"
   },
   "outputs": [],
   "source": [
    "import plotly.graph_objs as go\n",
    "\n",
    "Close = go.Scatter(\n",
    "                x=df.Date,\n",
    "                y=df.Close,\n",
    "                name = \"GOLL4 Close\",\n",
    "                line = dict(color = '#17BECF'),\n",
    "                opacity = 0.8)\n",
    "\n",
    "data = [Close]\n",
    "\n",
    "layout = dict(\n",
    "    title = \"Faixa de Data Customizada\",\n",
    "    title_x= 0.5,\n",
    "    xaxis = dict(\n",
    "        range = ['2017-01-01','2017-12-31'])\n",
    ")\n",
    "\n",
    "fig = dict(data=data, layout=layout)\n",
    "py.iplot(fig, filename = \"Manually Set Range\")"
   ]
  },
  {
   "cell_type": "markdown",
   "metadata": {
    "colab_type": "text",
    "id": "LICz9FlYXNyc"
   },
   "source": [
    "**Rangeslider e Rangeselector**"
   ]
  },
  {
   "cell_type": "code",
   "execution_count": null,
   "metadata": {
    "colab": {
     "base_uri": "https://localhost:8080/",
     "height": 542
    },
    "colab_type": "code",
    "executionInfo": {
     "elapsed": 1141,
     "status": "ok",
     "timestamp": 1584554999010,
     "user": {
      "displayName": "Rodrigo Santana Ferreira",
      "photoUrl": "https://lh3.googleusercontent.com/a-/AOh14Gh4OVUnkCrXudTIiz5YNwndI2zAhcS1gWXUSvoqJQ=s64",
      "userId": "14710330936720624047"
     },
     "user_tz": 180
    },
    "id": "MvusY_TMXNyd",
    "outputId": "f7211ada-045c-4702-96e7-b641e1b3338f"
   },
   "outputs": [],
   "source": [
    "import plotly.graph_objs as go\n",
    "\n",
    "Close = go.Scatter(\n",
    "    x=df.Date,\n",
    "    y=df.Close,\n",
    "    name = \"GOLL4 High\",\n",
    "    line = dict(color = '#17BECF'),\n",
    "    opacity = 0.8)\n",
    "\n",
    "data = [Close]\n",
    "\n",
    "layout = dict(\n",
    "    title=\"Série com Rangeslider e Botões\",\n",
    "    title_x=0.5,\n",
    "    xaxis=dict(\n",
    "        rangeselector=dict(\n",
    "            buttons=list([\n",
    "                dict(count=1,\n",
    "                     label='1m',\n",
    "                     step='month',\n",
    "                     stepmode='backward'),\n",
    "                dict(count=6,\n",
    "                     label='6m',\n",
    "                     step='month',\n",
    "                     stepmode='backward'),\n",
    "                dict(step='all')\n",
    "            ])\n",
    "        ),\n",
    "        rangeslider=dict(\n",
    "            visible = True\n",
    "        ),\n",
    "        type='date'\n",
    "    )\n",
    ")\n",
    "\n",
    "fig = dict(data=data, layout=layout)\n",
    "py.iplot(fig)"
   ]
  },
  {
   "cell_type": "markdown",
   "metadata": {
    "colab_type": "text",
    "id": "QOPxaN1cXNyg"
   },
   "source": [
    "**Gráficos com Candlesticks**"
   ]
  },
  {
   "cell_type": "code",
   "execution_count": null,
   "metadata": {
    "colab": {
     "base_uri": "https://localhost:8080/",
     "height": 542
    },
    "colab_type": "code",
    "executionInfo": {
     "elapsed": 1066,
     "status": "ok",
     "timestamp": 1584555350000,
     "user": {
      "displayName": "Rodrigo Santana Ferreira",
      "photoUrl": "https://lh3.googleusercontent.com/a-/AOh14Gh4OVUnkCrXudTIiz5YNwndI2zAhcS1gWXUSvoqJQ=s64",
      "userId": "14710330936720624047"
     },
     "user_tz": 180
    },
    "id": "aRT3_DymXNyh",
    "outputId": "7744e898-ce70-4173-da87-2ad8b741db85"
   },
   "outputs": [],
   "source": [
    "trace = go.Candlestick(x=df['Date'],\n",
    "                open=df['Open'],\n",
    "                high=df['High'],\n",
    "                low=df['Low'],\n",
    "                close=df['Close'])\n",
    "data = [trace]\n",
    "py.iplot(data, filename='simple_candlestick')"
   ]
  },
  {
   "cell_type": "markdown",
   "metadata": {
    "colab_type": "text",
    "id": "tLpXgOC-XNyl"
   },
   "source": [
    "**Sem rangerslider**"
   ]
  },
  {
   "cell_type": "code",
   "execution_count": null,
   "metadata": {
    "colab": {
     "base_uri": "https://localhost:8080/",
     "height": 542
    },
    "colab_type": "code",
    "executionInfo": {
     "elapsed": 1145,
     "status": "ok",
     "timestamp": 1584555554100,
     "user": {
      "displayName": "Rodrigo Santana Ferreira",
      "photoUrl": "https://lh3.googleusercontent.com/a-/AOh14Gh4OVUnkCrXudTIiz5YNwndI2zAhcS1gWXUSvoqJQ=s64",
      "userId": "14710330936720624047"
     },
     "user_tz": 180
    },
    "id": "8sp0ICCDXNym",
    "outputId": "b7375c33-dde0-4468-aa68-d02fd8d120af"
   },
   "outputs": [],
   "source": [
    "trace = go.Candlestick(x=df['Date'],\n",
    "                open=df['Open'],\n",
    "                high=df['High'],\n",
    "                low=df['Low'],\n",
    "                close=df['Close'])\n",
    "\n",
    "layout = go.Layout(\n",
    "    title ='Preços em Candlesticks',\n",
    "    title_x = 0.5,\n",
    "    xaxis = dict(\n",
    "        rangeslider = dict(\n",
    "            visible = False\n",
    "        )\n",
    "    )\n",
    ")\n",
    "\n",
    "data = [trace]\n",
    "\n",
    "fig = go.Figure(data=data,layout=layout)\n",
    "py.iplot(fig)"
   ]
  },
  {
   "cell_type": "markdown",
   "metadata": {
    "colab_type": "text",
    "id": "aSiXnT8SXNyq"
   },
   "source": [
    "**Customizando candlesticks**"
   ]
  },
  {
   "cell_type": "code",
   "execution_count": null,
   "metadata": {
    "colab": {
     "base_uri": "https://localhost:8080/",
     "height": 542
    },
    "colab_type": "code",
    "executionInfo": {
     "elapsed": 804,
     "status": "ok",
     "timestamp": 1584555672736,
     "user": {
      "displayName": "Rodrigo Santana Ferreira",
      "photoUrl": "https://lh3.googleusercontent.com/a-/AOh14Gh4OVUnkCrXudTIiz5YNwndI2zAhcS1gWXUSvoqJQ=s64",
      "userId": "14710330936720624047"
     },
     "user_tz": 180
    },
    "id": "kGTBkevMXNyr",
    "outputId": "c5283482-db47-4f59-8233-52a5dae5bda0"
   },
   "outputs": [],
   "source": [
    "trace = go.Candlestick(x=df['Date'],\n",
    "                open=df['Open'],\n",
    "                high=df['High'],\n",
    "                low=df['Low'],\n",
    "                close=df['Close'],\n",
    "                increasing=dict(line=dict(color= '#17BECF')),\n",
    "                decreasing=dict(line=dict(color= '#7F7F7F'))\n",
    "                )\n",
    "\n",
    "layout = go.Layout(\n",
    "    title ='Preços em Candlesticks',\n",
    "    title_x = 0.5,\n",
    "    xaxis = dict(\n",
    "        rangeslider = dict(\n",
    "            visible = False\n",
    "        )\n",
    "    )\n",
    ")\n",
    "\n",
    "data = [trace]\n",
    "\n",
    "fig = go.Figure(data=data,layout=layout)\n",
    "py.iplot(fig)"
   ]
  },
  {
   "cell_type": "markdown",
   "metadata": {
    "colab_type": "text",
    "id": "k2-37jxnXNyv"
   },
   "source": [
    "**Inserindo anotações**"
   ]
  },
  {
   "cell_type": "code",
   "execution_count": null,
   "metadata": {
    "colab": {
     "base_uri": "https://localhost:8080/",
     "height": 542
    },
    "colab_type": "code",
    "executionInfo": {
     "elapsed": 1522,
     "status": "ok",
     "timestamp": 1584555725006,
     "user": {
      "displayName": "Rodrigo Santana Ferreira",
      "photoUrl": "https://lh3.googleusercontent.com/a-/AOh14Gh4OVUnkCrXudTIiz5YNwndI2zAhcS1gWXUSvoqJQ=s64",
      "userId": "14710330936720624047"
     },
     "user_tz": 180
    },
    "id": "tTFWh2AuXNyw",
    "outputId": "08430e8b-42e5-409c-e17d-8e913c498bde"
   },
   "outputs": [],
   "source": [
    "trace = go.Candlestick(x=df['Date'],\n",
    "                open=df['Open'],\n",
    "                high=df['High'],\n",
    "                low=df['Low'],\n",
    "                close=df['Close'])\n",
    "data = [trace]\n",
    "\n",
    "layout = {\n",
    "    'title': 'GOLL4 Preços no Periodo',\n",
    "    'title_x': 0.5,\n",
    "    'yaxis': {'title': 'GOLL4 Preço'},\n",
    "    'annotations': [{\n",
    "        'x': '2017-05-17', \n",
    "        'y': 15, \n",
    "        'xref': 'x', \n",
    "        'yref': 'y',\n",
    "        'showarrow': True,\n",
    "        'font':dict(\n",
    "            family=\"Courier New, monospace\",\n",
    "            size=12\n",
    "        ),\n",
    "        'text': 'Audio Joesley',\n",
    "        'align':\"center\",\n",
    "        'arrowhead':2,\n",
    "        'arrowsize':1,\n",
    "        'arrowwidth':2,\n",
    "        'bordercolor':\"#c7c7c7\",\n",
    "        'borderwidth':2,\n",
    "        'borderpad':4\n",
    "    },\n",
    "    {\n",
    "        'x': '2016-01-01', \n",
    "        'y': 7, \n",
    "        'xref': 'x', \n",
    "        'yref': 'y',\n",
    "        'showarrow': True,\n",
    "        'font':dict(\n",
    "            family=\"Courier New, monospace\",\n",
    "            size=12\n",
    "        ),\n",
    "        'text': 'Impeachment Dilma',\n",
    "        'align':\"center\",\n",
    "        'arrowhead':2,\n",
    "        'arrowsize':1,\n",
    "        'arrowwidth':2,\n",
    "        'bordercolor':\"#c7c7c7\",\n",
    "        'borderwidth':2,\n",
    "        'borderpad':4\n",
    "    },\n",
    "    {\n",
    "        'x': '2018-05-27', \n",
    "        'y': 27, \n",
    "        'xref': 'x', \n",
    "        'yref': 'y',\n",
    "        'showarrow': True,\n",
    "        'font':dict(\n",
    "            family=\"Courier New, monospace\",\n",
    "            size=12\n",
    "        ),\n",
    "        'text': 'Greve dos Caminhoneiros',\n",
    "        'align':\"center\",\n",
    "        'arrowhead':2,\n",
    "        'arrowsize':1,\n",
    "        'arrowwidth':2,\n",
    "        'bordercolor':\"#c7c7c7\",\n",
    "        'borderwidth':2,\n",
    "        'borderpad':4\n",
    "    }]\n",
    "}\n",
    "fig = dict(data=data, layout=layout)\n",
    "py.iplot(fig)"
   ]
  },
  {
   "cell_type": "markdown",
   "metadata": {
    "colab_type": "text",
    "id": "sXdwPSnQD64I"
   },
   "source": [
    "### Trabalhando com Médias "
   ]
  },
  {
   "cell_type": "code",
   "execution_count": null,
   "metadata": {
    "colab": {
     "base_uri": "https://localhost:8080/",
     "height": 202
    },
    "colab_type": "code",
    "executionInfo": {
     "elapsed": 1407,
     "status": "ok",
     "timestamp": 1584556109266,
     "user": {
      "displayName": "Rodrigo Santana Ferreira",
      "photoUrl": "https://lh3.googleusercontent.com/a-/AOh14Gh4OVUnkCrXudTIiz5YNwndI2zAhcS1gWXUSvoqJQ=s64",
      "userId": "14710330936720624047"
     },
     "user_tz": 180
    },
    "id": "ZhIyvEsbjPo2",
    "outputId": "099f4ed4-93ef-4e2a-91b4-ccf4092e5f0a"
   },
   "outputs": [],
   "source": [
    "df.head()"
   ]
  },
  {
   "cell_type": "code",
   "execution_count": null,
   "metadata": {
    "colab": {},
    "colab_type": "code",
    "id": "6RAs2m-CtG2z"
   },
   "outputs": [],
   "source": [
    "# Média simples de 9 dias\n",
    "df['MM_9'] = df.Close.rolling(window=9).mean()\n",
    "\n",
    "# Média simples de 17 dias\n",
    "df['MM_17'] = df.Close.rolling(window=17).mean()"
   ]
  },
  {
   "cell_type": "code",
   "execution_count": null,
   "metadata": {
    "colab": {
     "base_uri": "https://localhost:8080/",
     "height": 662
    },
    "colab_type": "code",
    "executionInfo": {
     "elapsed": 1410,
     "status": "ok",
     "timestamp": 1584556486919,
     "user": {
      "displayName": "Rodrigo Santana Ferreira",
      "photoUrl": "https://lh3.googleusercontent.com/a-/AOh14Gh4OVUnkCrXudTIiz5YNwndI2zAhcS1gWXUSvoqJQ=s64",
      "userId": "14710330936720624047"
     },
     "user_tz": 180
    },
    "id": "wdKFA0zHudeA",
    "outputId": "f033f213-d67c-45c2-8b70-a3b45264d248"
   },
   "outputs": [],
   "source": [
    "# visualizando as colunas criadas\n",
    "df.head(20)"
   ]
  },
  {
   "cell_type": "markdown",
   "metadata": {
    "colab_type": "text",
    "id": "Wgkcs6IttL5f"
   },
   "source": [
    "**Plota as médias e os preços**"
   ]
  },
  {
   "cell_type": "code",
   "execution_count": null,
   "metadata": {
    "colab": {
     "base_uri": "https://localhost:8080/",
     "height": 542
    },
    "colab_type": "code",
    "executionInfo": {
     "elapsed": 1544,
     "status": "ok",
     "timestamp": 1584556273857,
     "user": {
      "displayName": "Rodrigo Santana Ferreira",
      "photoUrl": "https://lh3.googleusercontent.com/a-/AOh14Gh4OVUnkCrXudTIiz5YNwndI2zAhcS1gWXUSvoqJQ=s64",
      "userId": "14710330936720624047"
     },
     "user_tz": 180
    },
    "id": "1EX6u7oHjFjp",
    "outputId": "b5748a08-be57-46f1-d074-20aedfe8941d"
   },
   "outputs": [],
   "source": [
    "close = go.Scatter(\n",
    "                x=df.Date,\n",
    "                y=df.Close,\n",
    "                name = \"GOLL4 Close\",\n",
    "                line = dict(color = '#330000'),\n",
    "                opacity = 0.8)\n",
    "\n",
    "MM_9 = go.Scatter(\n",
    "                x=df.Date,\n",
    "                y=df['MM_9'],\n",
    "                name = \"Média Móvel 9 Períodos\",\n",
    "                line = dict(color = '#B2FF66'),\n",
    "                opacity = 0.8)\n",
    "\n",
    "MM_17 = go.Scatter(\n",
    "                x=df.Date,\n",
    "                y=df['MM_17'],\n",
    "                name = \"Média Móvel 17 Períodos\",\n",
    "                line = dict(color = '#FF00FF'),\n",
    "                opacity = 0.8)\n",
    "\n",
    "data = [close, MM_9, MM_17]\n",
    "\n",
    "py.iplot(data)"
   ]
  },
  {
   "cell_type": "code",
   "execution_count": null,
   "metadata": {
    "colab": {},
    "colab_type": "code",
    "id": "2eLitTMftXdY"
   },
   "outputs": [],
   "source": [
    "# Média simples de 3 dias\n",
    "df['MM_3'] = df.Close.rolling(window=3).mean()\n",
    "\n",
    "# Média simples de 9 dias\n",
    "df['MM_9'] = df.Close.rolling(window=9).mean()\n",
    "\n",
    "# Média simples de 17 dias\n",
    "df['MM_17'] = df.Close.rolling(window=17).mean()"
   ]
  },
  {
   "cell_type": "code",
   "execution_count": null,
   "metadata": {
    "colab": {
     "base_uri": "https://localhost:8080/",
     "height": 542
    },
    "colab_type": "code",
    "executionInfo": {
     "elapsed": 1219,
     "status": "ok",
     "timestamp": 1584556610571,
     "user": {
      "displayName": "Rodrigo Santana Ferreira",
      "photoUrl": "https://lh3.googleusercontent.com/a-/AOh14Gh4OVUnkCrXudTIiz5YNwndI2zAhcS1gWXUSvoqJQ=s64",
      "userId": "14710330936720624047"
     },
     "user_tz": 180
    },
    "id": "tznlVhS7lssZ",
    "outputId": "c67173bb-a322-40d2-f204-db209101d3bc"
   },
   "outputs": [],
   "source": [
    "close = go.Scatter(\n",
    "                x=df.Date,\n",
    "                y=df.Close,\n",
    "                name = \"GOLL4 Close\",\n",
    "                line = dict(color = '#330000'),\n",
    "                opacity = 0.8)\n",
    "\n",
    "MM_3 = go.Scatter(\n",
    "                x=df.Date,\n",
    "                y=df['MM_3'],\n",
    "                name = \"Média Móvel 3 Períodos\",\n",
    "                line = dict(color = '#FF8000'),\n",
    "                opacity = 0.8)\n",
    "\n",
    "MM_9 = go.Scatter(\n",
    "                x=df.Date,\n",
    "                y=df['MM_9'],\n",
    "                name = \"Média Móvel 9 Períodos\",\n",
    "                line = dict(color = '#B2FF66'),\n",
    "                opacity = 0.8)\n",
    "\n",
    "MM_17 = go.Scatter(\n",
    "                x=df.Date,\n",
    "                y=df['MM_17'],\n",
    "                name = \"Média Móvel 17 Períodos\",\n",
    "                line = dict(color = '#FF00FF'),\n",
    "                opacity = 0.8)\n",
    "\n",
    "data = [close, MM_3, MM_9, MM_17]\n",
    "\n",
    "py.iplot(data)"
   ]
  },
  {
   "cell_type": "markdown",
   "metadata": {
    "colab_type": "text",
    "id": "UDjGx07St2qC"
   },
   "source": [
    "**Trabalhando com médias menores**"
   ]
  },
  {
   "cell_type": "code",
   "execution_count": null,
   "metadata": {
    "colab": {},
    "colab_type": "code",
    "id": "rSL9Q1_2tcXC"
   },
   "outputs": [],
   "source": [
    "# Cria coluna com média 3\n",
    "df['MM_3'] = df.Close.rolling(window=3).mean()\n",
    "\n",
    "# Cria coluna com média 7\n",
    "df['MM_7'] = df.Close.rolling(window=7).mean()"
   ]
  },
  {
   "cell_type": "code",
   "execution_count": null,
   "metadata": {
    "colab": {
     "base_uri": "https://localhost:8080/",
     "height": 542
    },
    "colab_type": "code",
    "executionInfo": {
     "elapsed": 1184,
     "status": "ok",
     "timestamp": 1584556743648,
     "user": {
      "displayName": "Rodrigo Santana Ferreira",
      "photoUrl": "https://lh3.googleusercontent.com/a-/AOh14Gh4OVUnkCrXudTIiz5YNwndI2zAhcS1gWXUSvoqJQ=s64",
      "userId": "14710330936720624047"
     },
     "user_tz": 180
    },
    "id": "ZyDy4BC1n_vY",
    "outputId": "0d96afac-b101-44f9-f44b-6fa60998ee73"
   },
   "outputs": [],
   "source": [
    "close = go.Scatter(\n",
    "                x=df.Date,\n",
    "                y=df.Close,\n",
    "                name = \"GOLL4 Close\",\n",
    "                line = dict(color = '#330000'),\n",
    "                opacity = 0.8)\n",
    "\n",
    "MM_3 = go.Scatter(\n",
    "                x=df.Date,\n",
    "                y=df['MM_3'],\n",
    "                name = \"Média Móvel 3 Períodos\",\n",
    "                line = dict(color = '#B2FF66'),\n",
    "                opacity = 0.8)\n",
    "\n",
    "MM_7 = go.Scatter(\n",
    "                x=df.Date,\n",
    "                y=df['MM_7'],\n",
    "                name = \"Média Móvel 7 Períodos\",\n",
    "                line = dict(color = '#CC00CC'),\n",
    "                opacity = 0.8)\n",
    "\n",
    "data = [close, MM_3, MM_7]\n",
    "\n",
    "py.iplot(data)"
   ]
  },
  {
   "cell_type": "code",
   "execution_count": null,
   "metadata": {},
   "outputs": [],
   "source": []
  }
 ],
 "metadata": {
  "colab": {
   "collapsed_sections": [],
   "name": "Analisando Preços das Ações da Petrobras.ipynb",
   "provenance": []
  },
  "kernelspec": {
   "display_name": "Python 3",
   "language": "python",
   "name": "python3"
  },
  "language_info": {
   "codemirror_mode": {
    "name": "ipython",
    "version": 3
   },
   "file_extension": ".py",
   "mimetype": "text/x-python",
   "name": "python",
   "nbconvert_exporter": "python",
   "pygments_lexer": "ipython3",
   "version": "3.7.6"
  }
 },
 "nbformat": 4,
 "nbformat_minor": 1
}
